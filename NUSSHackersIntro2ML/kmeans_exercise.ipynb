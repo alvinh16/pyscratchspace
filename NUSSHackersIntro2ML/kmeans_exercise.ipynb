{
 "cells": [
  {
   "cell_type": "code",
   "execution_count": null,
   "metadata": {
    "id": "ZPz42ruP5rrV"
   },
   "outputs": [],
   "source": []
  },
  {
   "cell_type": "markdown",
   "metadata": {
    "id": "ba4055be"
   },
   "source": [
    "# Fill in the blanks exercise"
   ]
  },
  {
   "cell_type": "markdown",
   "metadata": {
    "id": "b6090483"
   },
   "source": [
    "## Import python libraries"
   ]
  },
  {
   "cell_type": "code",
   "execution_count": null,
   "metadata": {
    "id": "71b99a96"
   },
   "outputs": [],
   "source": [
    "#pandas:\n",
    "#numpy:\n",
    "#matplotlib:\n",
    "#seaborn:\n",
    "#To use matplotlib in this notebook\n",
    "\n"
   ]
  },
  {
   "cell_type": "markdown",
   "metadata": {
    "id": "97e5c38c"
   },
   "source": [
    "## Read in the data"
   ]
  },
  {
   "cell_type": "markdown",
   "metadata": {
    "id": "09778a15"
   },
   "source": [
    "## Data Description\n",
    "\n",
    "We will use a data frame with 7050 observations on the following 10 variables.\n",
    "* num_reactions: Number of reactions the post had\n",
    "* num_comments: Number of comments the post had\n",
    "* num_shares: Number of shares the post had  \n",
    "* num_likes: Number of likes the post had  \n",
    "* num_hahas: Number of happy reactions the post had  \n",
    "* num_sads: Number of sad face reactions the post had  \n",
    "* num_angrys: Number of angry reactions the post had  \n"
   ]
  },
  {
   "cell_type": "code",
   "execution_count": null,
   "metadata": {
    "id": "e58cc228"
   },
   "outputs": [],
   "source": [
    "#Read in the dataset\n",
    "df =\n"
   ]
  },
  {
   "cell_type": "markdown",
   "metadata": {
    "id": "66dacf30"
   },
   "source": [
    "## Check that the correct dataset was read in"
   ]
  },
  {
   "cell_type": "code",
   "execution_count": null,
   "metadata": {
    "id": "50b482d9"
   },
   "outputs": [],
   "source": [
    "#Viewing the first 5 rows of the dataframe\n",
    "df."
   ]
  },
  {
   "cell_type": "markdown",
   "metadata": {
    "id": "22ae6c0c"
   },
   "source": [
    "## Analyse Dataframe"
   ]
  },
  {
   "cell_type": "code",
   "execution_count": null,
   "metadata": {
    "id": "9e94e0a8"
   },
   "outputs": [],
   "source": [
    "#Obtaining the general information of our dataframe\n",
    "df."
   ]
  },
  {
   "cell_type": "code",
   "execution_count": null,
   "metadata": {
    "id": "0b8b30f9"
   },
   "outputs": [],
   "source": [
    "#Obtaining a description of our dataframe from a statistical point of view\n",
    "df."
   ]
  },
  {
   "cell_type": "markdown",
   "metadata": {
    "id": "fd973de2"
   },
   "source": [
    "## Feature Scaling - Bring all values to the same magnitude by standardising data\n"
   ]
  },
  {
   "cell_type": "code",
   "execution_count": null,
   "metadata": {
    "id": "e1613516"
   },
   "outputs": [],
   "source": [
    "#Import the processing library\n",
    "from import\n",
    "#Creating a scaler object from MinMaxScaler\n",
    "\n",
    "#Standardising the data using the scalar object\n",
    "\n",
    "\n",
    "#Converting the NumPy Array to a Pandas dataframe\n"
   ]
  },
  {
   "cell_type": "markdown",
   "metadata": {
    "id": "86e4a78c"
   },
   "source": [
    "## See results of standardisation"
   ]
  },
  {
   "cell_type": "code",
   "execution_count": null,
   "metadata": {
    "id": "01fb04e8"
   },
   "outputs": [],
   "source": [
    "#Obtaining a description of our dataframe and the effects of theh MinMaxScalar on theh dataframe\n"
   ]
  },
  {
   "cell_type": "markdown",
   "metadata": {
    "id": "ff6a9d52"
   },
   "source": [
    "## Create a Kmeans function and scale the data to fit it"
   ]
  },
  {
   "cell_type": "code",
   "execution_count": null,
   "metadata": {
    "id": "a8048df1"
   },
   "outputs": [],
   "source": [
    "#Importing the KMeans Clustering algorithm\n",
    "from import\n",
    "\n",
    "#Creating an instance of the KMeans clas\n",
    "\n",
    "#Fitting the kmeans object to the data\n",
    "\n",
    "#Getting our predictions from the kmeans object\n"
   ]
  },
  {
   "cell_type": "markdown",
   "metadata": {
    "id": "aadbdb23"
   },
   "source": [
    "## Inertia Value"
   ]
  },
  {
   "cell_type": "code",
   "execution_count": null,
   "metadata": {
    "id": "2632d010"
   },
   "outputs": [],
   "source": [
    "#What is our current inertia value?\n"
   ]
  },
  {
   "cell_type": "markdown",
   "metadata": {
    "id": "2258a040"
   },
   "source": [
    "## Visualising the Elbow method"
   ]
  },
  {
   "cell_type": "code",
   "execution_count": null,
   "metadata": {
    "id": "21f4ddcd"
   },
   "outputs": [],
   "source": [
    "#SSE = Sum of Sqaured Error\n",
    "\n",
    "#Append SSE after each K value is tried on each model\n",
    "SSE = []\n",
    "for cluster in range(1,20):\n",
    "    kmeans = KMeans(n_clusters = cluster, init='k-means++', n_init=10)\n",
    "    kmeans.fit(scaled_df)\n",
    "    SSE.append(kmeans.inertia_)\n",
    "\n",
    "#Visualising the Elbow Method\n",
    "frame = pd.DataFrame({'Cluster':range(1,20), 'SSE':SSE})\n",
    "plt.figure(figsize=(12,6))\n",
    "plt.plot(frame['Cluster'], frame['SSE'], marker='o')\n",
    "plt.xlabel('Number of clusters')\n",
    "plt.ylabel('Inertia')\n",
    "plt.show()\n",
    "\n",
    "#If want a more concrete way of identifying the best k value\n",
    "#use the silhouette score"
   ]
  },
  {
   "cell_type": "markdown",
   "metadata": {
    "id": "341f2d44"
   },
   "source": [
    "## Visualising silhouette score"
   ]
  },
  {
   "cell_type": "code",
   "execution_count": null,
   "metadata": {
    "id": "243a08c3"
   },
   "outputs": [],
   "source": [
    "from sklearn.metrics import silhouette_score\n",
    "\n",
    "k_values = [2, 3, 4, 5, 6, 7, 8]\n",
    "silhouette_avg = []\n",
    "for num_clusters in k_values:\n",
    "    kmeans = KMeans(n_clusters=num_clusters, init='k-means++', n_init=10)\n",
    "    kmeans.fit(scaled_df)\n",
    "    cluster_labels = kmeans.labels_\n",
    "    silhouette_avg.append(silhouette_score(scaled_df, cluster_labels))\n",
    "\n",
    "# Visualising the Silhouette score against range of K values\n",
    "plt.plot(k_values, silhouette_avg, 'bx-')\n",
    "plt.xlabel('Values of K')\n",
    "plt.ylabel('Silhouette score')\n",
    "plt.title('Silhouette analysis For Optimal k')\n",
    "plt.show()\n"
   ]
  },
  {
   "cell_type": "markdown",
   "metadata": {
    "id": "555f8b91"
   },
   "source": [
    "## Fit the kmeans model with the optimised K value"
   ]
  },
  {
   "cell_type": "code",
   "execution_count": null,
   "metadata": {
    "id": "9903cec7"
   },
   "outputs": [],
   "source": [
    "#Creating an instance of the KMeans clas\n",
    "kmeans =\n",
    "\n",
    "#Fitting the kmeans object to the data\n",
    "\n",
    "\n",
    "#Getting our predictions from the kmeans object\n"
   ]
  },
  {
   "cell_type": "code",
   "execution_count": null,
   "metadata": {
    "id": "375246ff"
   },
   "outputs": [],
   "source": []
  }
 ],
 "metadata": {
  "colab": {
   "authorship_tag": "ABX9TyMtJ0tKJ5y/fAVzc3j5f81V",
   "provenance": []
  },
  "kernelspec": {
   "display_name": "Python 3 (ipykernel)",
   "language": "python",
   "name": "python3"
  },
  "language_info": {
   "codemirror_mode": {
    "name": "ipython",
    "version": 3
   },
   "file_extension": ".py",
   "mimetype": "text/x-python",
   "name": "python",
   "nbconvert_exporter": "python",
   "pygments_lexer": "ipython3",
   "version": "3.11.5"
  }
 },
 "nbformat": 4,
 "nbformat_minor": 4
}
