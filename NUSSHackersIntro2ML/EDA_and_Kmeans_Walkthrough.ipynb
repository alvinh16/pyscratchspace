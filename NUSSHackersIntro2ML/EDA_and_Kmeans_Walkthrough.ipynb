{
 "cells": [
  {
   "cell_type": "markdown",
   "id": "2e13b384",
   "metadata": {
    "id": "2e13b384"
   },
   "source": [
    "# Exploratory Data Analysis\n"
   ]
  },
  {
   "cell_type": "markdown",
   "id": "71c5161c",
   "metadata": {
    "id": "71c5161c"
   },
   "source": [
    "## Importing in the python libraries"
   ]
  },
  {
   "cell_type": "code",
   "execution_count": 3,
   "id": "c5626fee",
   "metadata": {
    "executionInfo": {
     "elapsed": 527,
     "status": "ok",
     "timestamp": 1694689163318,
     "user": {
      "displayName": "Louise Tan",
      "userId": "16063849013181911241"
     },
     "user_tz": -480
    },
    "id": "c5626fee"
   },
   "outputs": [],
   "source": [
    "# Data processing\n",
    "import pandas as pd\n",
    "# Lineaer algebra library\n",
    "import numpy as np\n",
    "# Data visualisation\n",
    "import matplotlib.pyplot as plt\n",
    "# Statistical data visualisation\n",
    "import seaborn as sns\n",
    "%matplotlib inline"
   ]
  },
  {
   "cell_type": "markdown",
   "id": "64013d9e",
   "metadata": {
    "id": "64013d9e"
   },
   "source": [
    "## Read in the data"
   ]
  },
  {
   "cell_type": "markdown",
   "id": "f7b90507",
   "metadata": {
    "id": "f7b90507"
   },
   "source": [
    "## Data Description\n",
    "\n",
    "We will use a data frame with 777 observations on the following 18 variables.\n",
    "* Apps: Number of applications received\n",
    "* Accept: Number of applications accepted\n",
    "* Enroll: Number of new students enrolled\n",
    "* Top10perc: Percentage of new students from top 10% of H.S. class\n",
    "* Top25perc: Percentage of new students from top 25% of H.S. class\n",
    "* F.Undergrad: Number of full time undergraduates\n",
    "* P.Undergrad: Number of part time undergraduates\n",
    "* Outstate: Out-of-state tuition cost\n",
    "* Room.Board: Room and boarding costs\n",
    "* Books: Estimated book costs\n",
    "* Personal: Estimated personal spending\n",
    "* PhD: Percentage of faculty with Ph.D.’s\n",
    "* Terminal: Percentage of faculty with terminal degree\n",
    "* S.F.Ratio: Student to faculty ratio\n",
    "* perc.alumni: Percentage of alumni who donate\n",
    "* Expend: Instructional expenditure per student\n",
    "* Grad.Rate: Graduation rate"
   ]
  },
  {
   "cell_type": "code",
   "execution_count": 4,
   "id": "2f23be26",
   "metadata": {
    "colab": {
     "base_uri": "https://localhost:8080/",
     "height": 346
    },
    "executionInfo": {
     "elapsed": 543,
     "status": "error",
     "timestamp": 1694689170143,
     "user": {
      "displayName": "Louise Tan",
      "userId": "16063849013181911241"
     },
     "user_tz": -480
    },
    "id": "2f23be26",
    "outputId": "59c5834d-8982-45d7-d82a-4b40d0bec203"
   },
   "outputs": [
    {
     "ename": "FileNotFoundError",
     "evalue": "ignored",
     "output_type": "error",
     "traceback": [
      "\u001b[0;31m---------------------------------------------------------------------------\u001b[0m",
      "\u001b[0;31mFileNotFoundError\u001b[0m                         Traceback (most recent call last)",
      "\u001b[0;32m<ipython-input-4-62917f1e7e71>\u001b[0m in \u001b[0;36m<cell line: 1>\u001b[0;34m()\u001b[0m\n\u001b[0;32m----> 1\u001b[0;31m \u001b[0mdf\u001b[0m \u001b[0;34m=\u001b[0m \u001b[0mpd\u001b[0m\u001b[0;34m.\u001b[0m\u001b[0mread_csv\u001b[0m\u001b[0;34m(\u001b[0m\u001b[0;34m'College_Data.csv'\u001b[0m\u001b[0;34m)\u001b[0m\u001b[0;34m\u001b[0m\u001b[0;34m\u001b[0m\u001b[0m\n\u001b[0m",
      "\u001b[0;32m/usr/local/lib/python3.10/dist-packages/pandas/util/_decorators.py\u001b[0m in \u001b[0;36mwrapper\u001b[0;34m(*args, **kwargs)\u001b[0m\n\u001b[1;32m    209\u001b[0m                 \u001b[0;32melse\u001b[0m\u001b[0;34m:\u001b[0m\u001b[0;34m\u001b[0m\u001b[0;34m\u001b[0m\u001b[0m\n\u001b[1;32m    210\u001b[0m                     \u001b[0mkwargs\u001b[0m\u001b[0;34m[\u001b[0m\u001b[0mnew_arg_name\u001b[0m\u001b[0;34m]\u001b[0m \u001b[0;34m=\u001b[0m \u001b[0mnew_arg_value\u001b[0m\u001b[0;34m\u001b[0m\u001b[0;34m\u001b[0m\u001b[0m\n\u001b[0;32m--> 211\u001b[0;31m             \u001b[0;32mreturn\u001b[0m \u001b[0mfunc\u001b[0m\u001b[0;34m(\u001b[0m\u001b[0;34m*\u001b[0m\u001b[0margs\u001b[0m\u001b[0;34m,\u001b[0m \u001b[0;34m**\u001b[0m\u001b[0mkwargs\u001b[0m\u001b[0;34m)\u001b[0m\u001b[0;34m\u001b[0m\u001b[0;34m\u001b[0m\u001b[0m\n\u001b[0m\u001b[1;32m    212\u001b[0m \u001b[0;34m\u001b[0m\u001b[0m\n\u001b[1;32m    213\u001b[0m         \u001b[0;32mreturn\u001b[0m \u001b[0mcast\u001b[0m\u001b[0;34m(\u001b[0m\u001b[0mF\u001b[0m\u001b[0;34m,\u001b[0m \u001b[0mwrapper\u001b[0m\u001b[0;34m)\u001b[0m\u001b[0;34m\u001b[0m\u001b[0;34m\u001b[0m\u001b[0m\n",
      "\u001b[0;32m/usr/local/lib/python3.10/dist-packages/pandas/util/_decorators.py\u001b[0m in \u001b[0;36mwrapper\u001b[0;34m(*args, **kwargs)\u001b[0m\n\u001b[1;32m    329\u001b[0m                     \u001b[0mstacklevel\u001b[0m\u001b[0;34m=\u001b[0m\u001b[0mfind_stack_level\u001b[0m\u001b[0;34m(\u001b[0m\u001b[0;34m)\u001b[0m\u001b[0;34m,\u001b[0m\u001b[0;34m\u001b[0m\u001b[0;34m\u001b[0m\u001b[0m\n\u001b[1;32m    330\u001b[0m                 )\n\u001b[0;32m--> 331\u001b[0;31m             \u001b[0;32mreturn\u001b[0m \u001b[0mfunc\u001b[0m\u001b[0;34m(\u001b[0m\u001b[0;34m*\u001b[0m\u001b[0margs\u001b[0m\u001b[0;34m,\u001b[0m \u001b[0;34m**\u001b[0m\u001b[0mkwargs\u001b[0m\u001b[0;34m)\u001b[0m\u001b[0;34m\u001b[0m\u001b[0;34m\u001b[0m\u001b[0m\n\u001b[0m\u001b[1;32m    332\u001b[0m \u001b[0;34m\u001b[0m\u001b[0m\n\u001b[1;32m    333\u001b[0m         \u001b[0;31m# error: \"Callable[[VarArg(Any), KwArg(Any)], Any]\" has no\u001b[0m\u001b[0;34m\u001b[0m\u001b[0;34m\u001b[0m\u001b[0m\n",
      "\u001b[0;32m/usr/local/lib/python3.10/dist-packages/pandas/io/parsers/readers.py\u001b[0m in \u001b[0;36mread_csv\u001b[0;34m(filepath_or_buffer, sep, delimiter, header, names, index_col, usecols, squeeze, prefix, mangle_dupe_cols, dtype, engine, converters, true_values, false_values, skipinitialspace, skiprows, skipfooter, nrows, na_values, keep_default_na, na_filter, verbose, skip_blank_lines, parse_dates, infer_datetime_format, keep_date_col, date_parser, dayfirst, cache_dates, iterator, chunksize, compression, thousands, decimal, lineterminator, quotechar, quoting, doublequote, escapechar, comment, encoding, encoding_errors, dialect, error_bad_lines, warn_bad_lines, on_bad_lines, delim_whitespace, low_memory, memory_map, float_precision, storage_options)\u001b[0m\n\u001b[1;32m    948\u001b[0m     \u001b[0mkwds\u001b[0m\u001b[0;34m.\u001b[0m\u001b[0mupdate\u001b[0m\u001b[0;34m(\u001b[0m\u001b[0mkwds_defaults\u001b[0m\u001b[0;34m)\u001b[0m\u001b[0;34m\u001b[0m\u001b[0;34m\u001b[0m\u001b[0m\n\u001b[1;32m    949\u001b[0m \u001b[0;34m\u001b[0m\u001b[0m\n\u001b[0;32m--> 950\u001b[0;31m     \u001b[0;32mreturn\u001b[0m \u001b[0m_read\u001b[0m\u001b[0;34m(\u001b[0m\u001b[0mfilepath_or_buffer\u001b[0m\u001b[0;34m,\u001b[0m \u001b[0mkwds\u001b[0m\u001b[0;34m)\u001b[0m\u001b[0;34m\u001b[0m\u001b[0;34m\u001b[0m\u001b[0m\n\u001b[0m\u001b[1;32m    951\u001b[0m \u001b[0;34m\u001b[0m\u001b[0m\n\u001b[1;32m    952\u001b[0m \u001b[0;34m\u001b[0m\u001b[0m\n",
      "\u001b[0;32m/usr/local/lib/python3.10/dist-packages/pandas/io/parsers/readers.py\u001b[0m in \u001b[0;36m_read\u001b[0;34m(filepath_or_buffer, kwds)\u001b[0m\n\u001b[1;32m    603\u001b[0m \u001b[0;34m\u001b[0m\u001b[0m\n\u001b[1;32m    604\u001b[0m     \u001b[0;31m# Create the parser.\u001b[0m\u001b[0;34m\u001b[0m\u001b[0;34m\u001b[0m\u001b[0m\n\u001b[0;32m--> 605\u001b[0;31m     \u001b[0mparser\u001b[0m \u001b[0;34m=\u001b[0m \u001b[0mTextFileReader\u001b[0m\u001b[0;34m(\u001b[0m\u001b[0mfilepath_or_buffer\u001b[0m\u001b[0;34m,\u001b[0m \u001b[0;34m**\u001b[0m\u001b[0mkwds\u001b[0m\u001b[0;34m)\u001b[0m\u001b[0;34m\u001b[0m\u001b[0;34m\u001b[0m\u001b[0m\n\u001b[0m\u001b[1;32m    606\u001b[0m \u001b[0;34m\u001b[0m\u001b[0m\n\u001b[1;32m    607\u001b[0m     \u001b[0;32mif\u001b[0m \u001b[0mchunksize\u001b[0m \u001b[0;32mor\u001b[0m \u001b[0miterator\u001b[0m\u001b[0;34m:\u001b[0m\u001b[0;34m\u001b[0m\u001b[0;34m\u001b[0m\u001b[0m\n",
      "\u001b[0;32m/usr/local/lib/python3.10/dist-packages/pandas/io/parsers/readers.py\u001b[0m in \u001b[0;36m__init__\u001b[0;34m(self, f, engine, **kwds)\u001b[0m\n\u001b[1;32m   1440\u001b[0m \u001b[0;34m\u001b[0m\u001b[0m\n\u001b[1;32m   1441\u001b[0m         \u001b[0mself\u001b[0m\u001b[0;34m.\u001b[0m\u001b[0mhandles\u001b[0m\u001b[0;34m:\u001b[0m \u001b[0mIOHandles\u001b[0m \u001b[0;34m|\u001b[0m \u001b[0;32mNone\u001b[0m \u001b[0;34m=\u001b[0m \u001b[0;32mNone\u001b[0m\u001b[0;34m\u001b[0m\u001b[0;34m\u001b[0m\u001b[0m\n\u001b[0;32m-> 1442\u001b[0;31m         \u001b[0mself\u001b[0m\u001b[0;34m.\u001b[0m\u001b[0m_engine\u001b[0m \u001b[0;34m=\u001b[0m \u001b[0mself\u001b[0m\u001b[0;34m.\u001b[0m\u001b[0m_make_engine\u001b[0m\u001b[0;34m(\u001b[0m\u001b[0mf\u001b[0m\u001b[0;34m,\u001b[0m \u001b[0mself\u001b[0m\u001b[0;34m.\u001b[0m\u001b[0mengine\u001b[0m\u001b[0;34m)\u001b[0m\u001b[0;34m\u001b[0m\u001b[0;34m\u001b[0m\u001b[0m\n\u001b[0m\u001b[1;32m   1443\u001b[0m \u001b[0;34m\u001b[0m\u001b[0m\n\u001b[1;32m   1444\u001b[0m     \u001b[0;32mdef\u001b[0m \u001b[0mclose\u001b[0m\u001b[0;34m(\u001b[0m\u001b[0mself\u001b[0m\u001b[0;34m)\u001b[0m \u001b[0;34m->\u001b[0m \u001b[0;32mNone\u001b[0m\u001b[0;34m:\u001b[0m\u001b[0;34m\u001b[0m\u001b[0;34m\u001b[0m\u001b[0m\n",
      "\u001b[0;32m/usr/local/lib/python3.10/dist-packages/pandas/io/parsers/readers.py\u001b[0m in \u001b[0;36m_make_engine\u001b[0;34m(self, f, engine)\u001b[0m\n\u001b[1;32m   1733\u001b[0m                 \u001b[0;32mif\u001b[0m \u001b[0;34m\"b\"\u001b[0m \u001b[0;32mnot\u001b[0m \u001b[0;32min\u001b[0m \u001b[0mmode\u001b[0m\u001b[0;34m:\u001b[0m\u001b[0;34m\u001b[0m\u001b[0;34m\u001b[0m\u001b[0m\n\u001b[1;32m   1734\u001b[0m                     \u001b[0mmode\u001b[0m \u001b[0;34m+=\u001b[0m \u001b[0;34m\"b\"\u001b[0m\u001b[0;34m\u001b[0m\u001b[0;34m\u001b[0m\u001b[0m\n\u001b[0;32m-> 1735\u001b[0;31m             self.handles = get_handle(\n\u001b[0m\u001b[1;32m   1736\u001b[0m                 \u001b[0mf\u001b[0m\u001b[0;34m,\u001b[0m\u001b[0;34m\u001b[0m\u001b[0;34m\u001b[0m\u001b[0m\n\u001b[1;32m   1737\u001b[0m                 \u001b[0mmode\u001b[0m\u001b[0;34m,\u001b[0m\u001b[0;34m\u001b[0m\u001b[0;34m\u001b[0m\u001b[0m\n",
      "\u001b[0;32m/usr/local/lib/python3.10/dist-packages/pandas/io/common.py\u001b[0m in \u001b[0;36mget_handle\u001b[0;34m(path_or_buf, mode, encoding, compression, memory_map, is_text, errors, storage_options)\u001b[0m\n\u001b[1;32m    854\u001b[0m         \u001b[0;32mif\u001b[0m \u001b[0mioargs\u001b[0m\u001b[0;34m.\u001b[0m\u001b[0mencoding\u001b[0m \u001b[0;32mand\u001b[0m \u001b[0;34m\"b\"\u001b[0m \u001b[0;32mnot\u001b[0m \u001b[0;32min\u001b[0m \u001b[0mioargs\u001b[0m\u001b[0;34m.\u001b[0m\u001b[0mmode\u001b[0m\u001b[0;34m:\u001b[0m\u001b[0;34m\u001b[0m\u001b[0;34m\u001b[0m\u001b[0m\n\u001b[1;32m    855\u001b[0m             \u001b[0;31m# Encoding\u001b[0m\u001b[0;34m\u001b[0m\u001b[0;34m\u001b[0m\u001b[0m\n\u001b[0;32m--> 856\u001b[0;31m             handle = open(\n\u001b[0m\u001b[1;32m    857\u001b[0m                 \u001b[0mhandle\u001b[0m\u001b[0;34m,\u001b[0m\u001b[0;34m\u001b[0m\u001b[0;34m\u001b[0m\u001b[0m\n\u001b[1;32m    858\u001b[0m                 \u001b[0mioargs\u001b[0m\u001b[0;34m.\u001b[0m\u001b[0mmode\u001b[0m\u001b[0;34m,\u001b[0m\u001b[0;34m\u001b[0m\u001b[0;34m\u001b[0m\u001b[0m\n",
      "\u001b[0;31mFileNotFoundError\u001b[0m: [Errno 2] No such file or directory: 'College_Data.csv'"
     ]
    }
   ],
   "source": [
    "df = pd.read_csv('College_Data.csv')"
   ]
  },
  {
   "cell_type": "markdown",
   "id": "9395623a",
   "metadata": {
    "id": "9395623a"
   },
   "source": [
    "## Check the data that was read in"
   ]
  },
  {
   "cell_type": "code",
   "execution_count": null,
   "id": "b3ad750b",
   "metadata": {
    "id": "b3ad750b"
   },
   "outputs": [],
   "source": [
    "df.head()"
   ]
  },
  {
   "cell_type": "code",
   "execution_count": null,
   "id": "930eab97",
   "metadata": {
    "id": "930eab97"
   },
   "outputs": [],
   "source": [
    "df.info()"
   ]
  },
  {
   "cell_type": "markdown",
   "id": "aaed7cd0",
   "metadata": {
    "id": "aaed7cd0"
   },
   "source": [
    "## Are schools with higher out-of-state tuition (Outstate) also the ones that have higher room and boarding costs (Room.Board)?\n"
   ]
  },
  {
   "cell_type": "code",
   "execution_count": null,
   "id": "90d58e7e",
   "metadata": {
    "id": "90d58e7e"
   },
   "outputs": [],
   "source": [
    "sns.set_style('whitegrid')\n",
    "sns.lmplot(data=df, x='Outstate', y='Room.Board', height=6, aspect=2,\n",
    "           scatter_kws={'s': 50, 'alpha': 0.5}, # 's' is size of scatter points, 'alpha' is the transparency\n",
    "           line_kws={'color': 'green', 'lw': 2}   # 'color' is color of line, 'lw' is line width\n",
    "          )\n",
    "\n",
    "# Set title and labels with enhanced font sizes\n",
    "plt.title('Relationship between Room & Board Costs and Out-of-State Tuition', fontsize=16)\n",
    "plt.xlabel('Out-of-State Tuition', fontsize=14)\n",
    "plt.ylabel('Room & Board Costs', fontsize=14)\n",
    "plt.show()"
   ]
  },
  {
   "cell_type": "markdown",
   "id": "01c6915f",
   "metadata": {
    "id": "01c6915f"
   },
   "source": [
    "## How does the extent of alumni support affect the Graduation rate of students in university?"
   ]
  },
  {
   "cell_type": "code",
   "execution_count": null,
   "id": "c2d07145",
   "metadata": {
    "id": "c2d07145"
   },
   "outputs": [],
   "source": [
    "sns.set_style('whitegrid')\n",
    "sns.lmplot(data=df, x='perc.alumni', y='Grad.Rate', height=6, aspect=2,\n",
    "           scatter_kws={'s': 50, 'alpha': 0.5}, # 's' is size of scatter points, 'alpha' is the transparency\n",
    "           line_kws={'color': 'green', 'lw': 2}   # 'color' is color of line, 'lw' is line width\n",
    "          )\n",
    "\n",
    "# Set title and labels with enhanced font sizes\n",
    "plt.title('Relationship between Alumni Percentage and Graduation Rate', fontsize=16)\n",
    "plt.xlabel('Alumni Percentage', fontsize=14)\n",
    "plt.ylabel('Graduation Rate', fontsize=14)\n",
    "plt.show()"
   ]
  },
  {
   "cell_type": "markdown",
   "id": "6d3a0b2a",
   "metadata": {
    "id": "6d3a0b2a"
   },
   "source": [
    "## How does an increasing Student to Faculty member ratio affect the Graduation rate of students in university?"
   ]
  },
  {
   "cell_type": "code",
   "execution_count": null,
   "id": "9ae666bb",
   "metadata": {
    "id": "9ae666bb"
   },
   "outputs": [],
   "source": [
    "sns.set_style('whitegrid')\n",
    "sns.lmplot(data=df, x='S.F.Ratio', y='Grad.Rate', height=6, aspect=2,\n",
    "           scatter_kws={'s': 50, 'alpha': 0.5}, # 's' is size of scatter points, 'alpha' is the transparency\n",
    "           line_kws={'color': 'red', 'lw': 2}   # 'color' is color of line, 'lw' is line width\n",
    "          )\n",
    "\n",
    "# Set title and labels with enhanced font sizes\n",
    "plt.title('Relationship between Student to Faculty Ratio and Graduation Rate', fontsize=16)\n",
    "plt.xlabel('S/F Ratio', fontsize=14)\n",
    "plt.ylabel('Graduation Rate', fontsize=14)\n",
    "plt.show()"
   ]
  },
  {
   "cell_type": "markdown",
   "id": "56ed271b",
   "metadata": {
    "id": "56ed271b"
   },
   "source": [
    "## Notice that we have a graduation rate of >100%? (Not possible)"
   ]
  },
  {
   "cell_type": "code",
   "execution_count": null,
   "id": "a79929e9",
   "metadata": {
    "id": "a79929e9"
   },
   "outputs": [],
   "source": [
    "df.loc[df['Grad.Rate'] > 100, 'Grad.Rate'] = 100"
   ]
  },
  {
   "cell_type": "markdown",
   "id": "1f9c4794",
   "metadata": {
    "id": "1f9c4794"
   },
   "source": [
    "# K Means Cluster Creation"
   ]
  },
  {
   "cell_type": "code",
   "execution_count": null,
   "id": "097bb288",
   "metadata": {
    "id": "097bb288"
   },
   "outputs": [],
   "source": [
    "from sklearn.cluster import KMeans"
   ]
  },
  {
   "cell_type": "markdown",
   "id": "aca50be6",
   "metadata": {
    "id": "aca50be6"
   },
   "source": [
    "## Analyse Data"
   ]
  },
  {
   "cell_type": "code",
   "execution_count": null,
   "id": "5cfa1107",
   "metadata": {
    "id": "5cfa1107"
   },
   "outputs": [],
   "source": [
    "df.describe()\n",
    "\n",
    "#Data is not standardised"
   ]
  },
  {
   "cell_type": "markdown",
   "id": "641b0941",
   "metadata": {
    "id": "641b0941"
   },
   "source": [
    "## Bring all values to the same magnitude by standardising data"
   ]
  },
  {
   "cell_type": "code",
   "execution_count": null,
   "id": "8e8e2fd1",
   "metadata": {
    "id": "8e8e2fd1"
   },
   "outputs": [],
   "source": [
    "from sklearn.preprocessing import MinMaxScaler\n",
    "scaler = MinMaxScaler()\n",
    "scaled_df = scaler.fit_transform(df)"
   ]
  },
  {
   "cell_type": "code",
   "execution_count": null,
   "id": "ebbd2773",
   "metadata": {
    "id": "ebbd2773"
   },
   "outputs": [],
   "source": [
    "scaled_df = pd.DataFrame(scaled_df, columns=df.columns)"
   ]
  },
  {
   "cell_type": "markdown",
   "id": "fba38683",
   "metadata": {
    "id": "fba38683"
   },
   "source": [
    "## See results of standardisation"
   ]
  },
  {
   "cell_type": "code",
   "execution_count": null,
   "id": "d0d3db3b",
   "metadata": {
    "id": "d0d3db3b"
   },
   "outputs": [],
   "source": [
    "scaled_df.describe()"
   ]
  },
  {
   "cell_type": "markdown",
   "id": "b4a9c37b",
   "metadata": {
    "id": "b4a9c37b"
   },
   "source": [
    "## Create a kmeans function and fit the scaled data to it"
   ]
  },
  {
   "cell_type": "code",
   "execution_count": null,
   "id": "4798e373",
   "metadata": {
    "id": "4798e373"
   },
   "outputs": [],
   "source": [
    "kmeans = KMeans(n_clusters=4, init=\"k-means++\", n_init=10)\n",
    "kmeans.fit(scaled_df)\n",
    "predictions = kmeans.predict(scaled_df)"
   ]
  },
  {
   "cell_type": "markdown",
   "id": "786734c4",
   "metadata": {
    "id": "786734c4"
   },
   "source": [
    "## Inertia Value"
   ]
  },
  {
   "cell_type": "code",
   "execution_count": null,
   "id": "bfc882e3",
   "metadata": {
    "id": "bfc882e3"
   },
   "outputs": [],
   "source": [
    "kmeans.inertia_\n",
    "\n",
    "\n",
    "#Measuring the distance between each data point and its centroid,\n",
    "#squaring this distance, and summing these squares across the cluster.\n",
    "\n",
    "#A good model is one with low inertia AND a low number of clusters.\n",
    "#However, this is a tradeoff because as number of clusters increases, inertia decreases."
   ]
  },
  {
   "cell_type": "markdown",
   "id": "3a6b6b62",
   "metadata": {
    "id": "3a6b6b62"
   },
   "source": [
    "## Visualising the Elbow Method (Using inertia values)"
   ]
  },
  {
   "cell_type": "code",
   "execution_count": null,
   "id": "75744958",
   "metadata": {
    "id": "75744958"
   },
   "outputs": [],
   "source": [
    "#SSE = Sum of Sqaured Error\n",
    "\n",
    "#Append SSE after each K value is tried on each model\n",
    "SSE = []\n",
    "for num_clusters in range(1,20):\n",
    "    kmeans = KMeans(n_clusters = num_clusters, init='k-means++', n_init=10)\n",
    "    kmeans.fit(scaled_df)\n",
    "    SSE.append(kmeans.inertia_)\n",
    "\n",
    "#Visualising the Elbow Method\n",
    "frame = pd.DataFrame({'Cluster':range(1,20), 'SSE':SSE})\n",
    "plt.figure(figsize=(12,6))\n",
    "plt.plot(frame['Cluster'], frame['SSE'], marker='o')\n",
    "plt.xlabel('Number of clusters')\n",
    "plt.ylabel('Inertia')\n",
    "\n",
    "#Use the silhouette score a more concrete way of identifying the best k value"
   ]
  },
  {
   "cell_type": "markdown",
   "id": "66cff43d",
   "metadata": {
    "id": "66cff43d"
   },
   "source": [
    "## A more concrete way of finding the best K value"
   ]
  },
  {
   "cell_type": "code",
   "execution_count": null,
   "id": "0e9b2295",
   "metadata": {
    "id": "0e9b2295"
   },
   "outputs": [],
   "source": [
    "#A more concrete way of finding the best K value\n",
    "\n",
    "from sklearn.metrics import silhouette_score\n",
    "\n",
    "k_values = [2, 3, 4, 5, 6, 7, 8]\n",
    "silhouette_avg = []\n",
    "for num_clusters in k_values:\n",
    "    kmeans = KMeans(n_clusters=num_clusters, init='k-means++', n_init=10)\n",
    "    kmeans.fit(scaled_df)\n",
    "    cluster_labels = kmeans.labels_\n",
    "    silhouette_avg.append(silhouette_score(scaled_df, cluster_labels))\n",
    "\n",
    "plt.plot(k_values, silhouette_avg, 'bx-')\n",
    "plt.xlabel('Values of K')\n",
    "plt.ylabel('Silhouette score')\n",
    "plt.title('Silhouette analysis For Optimal k')\n",
    "plt.show()\n"
   ]
  },
  {
   "cell_type": "markdown",
   "id": "f8e68eb9",
   "metadata": {
    "id": "f8e68eb9"
   },
   "source": [
    "## Re-fitting the model with our new K value based on the Silhouette Score"
   ]
  },
  {
   "cell_type": "code",
   "execution_count": null,
   "id": "062612ad",
   "metadata": {
    "id": "062612ad"
   },
   "outputs": [],
   "source": [
    "kmeans = KMeans(n_clusters=2, init=\"k-means++\", n_init=10)\n",
    "kmeans.fit(scaled_df)\n",
    "predictions = kmeans.predict(scaled_df)"
   ]
  },
  {
   "cell_type": "markdown",
   "id": "N1d8CYM31WvM",
   "metadata": {
    "id": "N1d8CYM31WvM"
   },
   "source": [
    "# Optional code: Understanding K-means better\n",
    "\n",
    "As mentioned in this workshop, we have talked about k-means clustering and the metrics we can use to judge k-means better. However, we haven't actually seen its effects on the accuracy of our model!\n",
    "\n",
    "The code below will show u how optimising the number of clusters based on the Silhouette score and inertia values will improve the models accuracy.\n",
    "\n",
    "This is purely optional and there is no need to run through this if needed be.\n"
   ]
  },
  {
   "cell_type": "code",
   "execution_count": null,
   "id": "0a2f2776",
   "metadata": {
    "id": "0a2f2776"
   },
   "outputs": [],
   "source": [
    "#This dataset has the labels on whether the uni is private or not, note that the data set in real life will not have such labels.\n",
    "df2 = pd.read_csv('College_Data_unclean.csv')"
   ]
  },
  {
   "cell_type": "code",
   "execution_count": null,
   "id": "9b562d16",
   "metadata": {
    "id": "9b562d16"
   },
   "outputs": [],
   "source": [
    "df2.head()"
   ]
  },
  {
   "cell_type": "code",
   "execution_count": null,
   "id": "zMlIIFv4_Xv7",
   "metadata": {
    "id": "zMlIIFv4_Xv7"
   },
   "outputs": [],
   "source": [
    "#converting the Yes and No values in the private column to integers\n",
    "df2['Private'] = df2['Private'].apply(lambda x: 0 if x=='Yes' else 1)"
   ]
  },
  {
   "cell_type": "code",
   "execution_count": null,
   "id": "35fdd869",
   "metadata": {
    "id": "35fdd869"
   },
   "outputs": [],
   "source": [
    "df2.head()"
   ]
  },
  {
   "cell_type": "code",
   "execution_count": null,
   "id": "e4bece90",
   "metadata": {
    "id": "e4bece90"
   },
   "outputs": [],
   "source": [
    "#Standardise data\n",
    "from sklearn.preprocessing import MinMaxScaler\n",
    "scaler = MinMaxScaler()\n",
    "scaled_df2 = scaler.fit_transform(df2)"
   ]
  },
  {
   "cell_type": "code",
   "execution_count": null,
   "id": "31e801b1",
   "metadata": {
    "id": "31e801b1"
   },
   "outputs": [],
   "source": [
    "#convert data to dataframe type\n",
    "scaled_df2 = pd.DataFrame(scaled_df2, columns=df2.columns)"
   ]
  },
  {
   "cell_type": "markdown",
   "id": "9dad6f67",
   "metadata": {
    "id": "9dad6f67"
   },
   "source": [
    "## Accuracy of our initial K value"
   ]
  },
  {
   "cell_type": "code",
   "execution_count": null,
   "id": "9ce40d2d",
   "metadata": {
    "id": "9ce40d2d"
   },
   "outputs": [],
   "source": [
    "from sklearn.cluster import KMeans\n",
    "kmeans = KMeans(n_clusters=4, init=\"k-means++\", n_init=10)\n",
    "kmeans.fit(scaled_df2.drop('Private', axis=1))\n",
    "predictions = kmeans.predict(scaled_df2.drop('Private', axis=1))\n",
    "\n",
    "# check how many of the samples were correctly labeled\n",
    "labels = kmeans.labels_\n",
    "private_labels = scaled_df2['Private']\n",
    "correct_labels = sum(private_labels == labels)\n",
    "print(\"Result: %d out of %d samples were correctly labeled.\" % (correct_labels, private_labels.size))\n",
    "print('Accuracy score: {0:0.2f}'. format(correct_labels/float(private_labels.size)))"
   ]
  },
  {
   "cell_type": "markdown",
   "id": "5990c666",
   "metadata": {
    "id": "5990c666"
   },
   "source": [
    "## Accuracy of our K value after visualising Silhouette score"
   ]
  },
  {
   "cell_type": "code",
   "execution_count": null,
   "id": "419e6913",
   "metadata": {
    "id": "419e6913"
   },
   "outputs": [],
   "source": [
    "kmeans = KMeans(n_clusters=2, init='k-means++', n_init=10)\n",
    "kmeans.fit(scaled_df2.drop('Private', axis=1))\n",
    "predictions = kmeans.predict(scaled_df2.drop('Private', axis=1))\n",
    "\n",
    "# check how many of the samples were correctly labeled\n",
    "labels = kmeans.labels_\n",
    "private_labels = scaled_df2['Private']\n",
    "correct_labels = sum(private_labels == labels)\n",
    "print(\"Result: %d out of %d samples were correctly labeled.\" % (correct_labels, private_labels.size))\n",
    "print('Accuracy score: {0:0.2f}'. format(correct_labels/float(private_labels.size)))"
   ]
  },
  {
   "cell_type": "code",
   "execution_count": null,
   "id": "4e6620f3",
   "metadata": {
    "id": "4e6620f3"
   },
   "outputs": [],
   "source": [
    "## As we can see, an improvement in accuracy after choosing a better K value"
   ]
  }
 ],
 "metadata": {
  "colab": {
   "provenance": []
  },
  "kernelspec": {
   "display_name": "Python 3 (ipykernel)",
   "language": "python",
   "name": "python3"
  },
  "language_info": {
   "codemirror_mode": {
    "name": "ipython",
    "version": 3
   },
   "file_extension": ".py",
   "mimetype": "text/x-python",
   "name": "python",
   "nbconvert_exporter": "python",
   "pygments_lexer": "ipython3",
   "version": "3.11.5"
  }
 },
 "nbformat": 4,
 "nbformat_minor": 5
}
